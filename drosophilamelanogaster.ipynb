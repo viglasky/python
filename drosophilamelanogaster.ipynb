{
 "cells": [
  {
   "cell_type": "markdown",
   "metadata": {},
   "source": [
    "# Drosophila Melanogaster - Octomilka obecná\n",
    "\n",
    "## Jakub Víglaský\n",
    "\n",
    "![drosophila](http://www.yourgenome.org/sites/default/files/styles/banner/public/banners/stories/fruit-flies-in-the-laboratory/single-fruit-fly-drosophila-melanogaster-on-white-background-cropped.jpg?itok=3pTTh8c5)\n",
    "\n",
    "\n",
    "Octomilka obecná (Drosophila melanogaster), **čeleď** octomilkovití, **řád** dvoukřídlí (Diptera). Druhové jméno pochází z řečtiny a znamená \"černobřichá\". Drosophily, tzv. \"banánové\" nebo \"ovocné mušky\", jsou využívány jako laboratorní zvířata nebo krmivo, ale především jako nejrozšířenější modelové organismy v biologii a v genetických studiích, fyziologii a evoluční biologii.  \n",
    "Pro laboratorní a chovatelské (krmivo) účely se z praktických důvodů často používá bezkřídlá mutace.\n",
    "\n",
    "Původní (divoká) forma octomilky obecné má jasně červené oči a je dlouhá 2 až 3 mm. Vyskytuje se na kvasícím ovoci, marmeládách, ovocných šťávách apod. Beznohé larvy jsou dlouhé přibližně 7 mm a žijí v hnijící dužnině ovoce.\n",
    "\n",
    "Zdroj: [https://cs.wikipedia.org/wiki/Octomilka_obecn%C3%A1](https://cs.wikipedia.org/wiki/Octomilka_obecn%C3%A1)\n",
    "\n",
    " Křídla má široká, v klidu složená na zadečku, který jen málo přečnívají. Má proměnu dokonalou. Samička klade během 10-15 dnů až 350 oválných, bílých vajíček, velkých kolem 0,5 mm, na měkké ovoce, kompoty, marmelády nebo kvasící tekutiny. Larvy se z nich líhnou za 3 dny a jsou protáhlé, vzrostlé, až 8 mm velké, se zakrnělou hlavou. Kuklí se za 3 týdny a dospělí jedinec se líhne po 5-10 dnech dle okolní teploty. Délka života dospělce je 2-9 týdnů.\n",
    " \n",
    " Zdroj: [http://cit.vfu.cz/vet-ekologie/rozdeleni_skudcu/octomilky.htm](http://cit.vfu.cz/vet-ekologie/rozdeleni_skudcu/octomilky.htm)"
   ]
  },
  {
   "cell_type": "markdown",
   "metadata": {},
   "source": [
    "### Obsah:\n",
    "\n",
    "1. Koľko má chromozómov?\n",
    "2. Koľko má génov?\n",
    "3. Aké veľké sú gény?\n",
    "3. Koľko génov majú jednotlivé chromozómy?\n",
    "4. Koľko má transkriptov?\n",
    "5. Koľko transkriptov majú jednotilvé chromozómy?\n",
    "6. Koľko transkriptov majú jednotlivé gény?\n",
    "7. Koľko exónov majú transkipty?"
   ]
  },
  {
   "cell_type": "markdown",
   "metadata": {},
   "source": [
    "#### Úprava dát na analýzu"
   ]
  },
  {
   "cell_type": "code",
   "execution_count": 1,
   "metadata": {
    "collapsed": true
   },
   "outputs": [],
   "source": [
    "import pandas as pd \n",
    "import numpy as np \n",
    "import matplotlib as plt\n",
    "import matplotlib.pyplot as pylt\n",
    "import matplotlib.mlab as  mlab\n",
    "import pylab as pl\n",
    "import re "
   ]
  },
  {
   "cell_type": "code",
   "execution_count": 2,
   "metadata": {
    "collapsed": false
   },
   "outputs": [],
   "source": [
    "gene = pd.read_table(\"C:/Users/Gabika/Documents/Python/drosophila_melanogaster_gene.gtf\", header=None)\n",
    "trans = pd.read_table(\"C:/Users/Gabika/Documents/Python/drosophila_melanogaster_transcript.gtf\", header=None)\n",
    "exon = pd.read_table(\"C:/Users/Gabika/Documents/Python/drosophila_melanogaster_exon.gtf\", header=None)\n",
    "\n",
    "gene.columns = [\"seqname\", \"source\", \"feature\", \"start\", \"end\", \"score\", \"strand\", \"frame\", \"attribute\"]\n",
    "trans.columns = [\"seqname\", \"source\", \"feature\", \"start\", \"end\", \"score\", \"strand\", \"frame\", \"attribute\"]\n",
    "exon.columns = [\"seqname\", \"source\", \"feature\", \"start\", \"end\", \"score\", \"strand\", \"frame\", \"attribute\"]"
   ]
  },
  {
   "cell_type": "code",
   "execution_count": 3,
   "metadata": {
    "collapsed": true
   },
   "outputs": [],
   "source": [
    "def parse_attributes(attributes_str):\n",
    "    \n",
    "    ONLY_ATTRIBUTES = set([\"gene_id\", \n",
    "                          \"transcript_id\",\n",
    "                          \"gene_name\",\n",
    "                          \"gene_biotype\",\n",
    "                          \"transcript_name\",\n",
    "                          \"transcript_biotypparse_attributes(s)e\"\n",
    "                          \"gene_version\"\n",
    "                          \"exon_version\"])\n",
    "    \n",
    "    out = {}\n",
    "    \n",
    "    for pair in attributes_str.split(\";\"):\n",
    "        if pair.strip() == \"\":\n",
    "            continue\n",
    "        m = re.match(r\"^\\s*(.+) \\\"(.+)\\\"$\", pair)\n",
    "        \n",
    "        if m.group(1) in ONLY_ATTRIBUTES:\n",
    "            out[m.group(1)] = m.group(2)\n",
    "\n",
    "    return out\n"
   ]
  },
  {
   "cell_type": "code",
   "execution_count": 6,
   "metadata": {
    "collapsed": false
   },
   "outputs": [
    {
     "ename": "AttributeError",
     "evalue": "'DataFrame' object has no attribute 'attribute'",
     "output_type": "error",
     "traceback": [
      "\u001b[0;31m---------------------------------------------------------------------------\u001b[0m",
      "\u001b[0;31mAttributeError\u001b[0m                            Traceback (most recent call last)",
      "\u001b[0;32m<ipython-input-6-091a075c3475>\u001b[0m in \u001b[0;36m<module>\u001b[0;34m()\u001b[0m\n\u001b[1;32m      8\u001b[0m                      axis=1)\n\u001b[1;32m      9\u001b[0m \u001b[1;33m\u001b[0m\u001b[0m\n\u001b[0;32m---> 10\u001b[0;31m \u001b[0mgene\u001b[0m \u001b[1;33m=\u001b[0m \u001b[0msplit_attribute_column\u001b[0m\u001b[1;33m(\u001b[0m\u001b[0mgene\u001b[0m\u001b[1;33m)\u001b[0m\u001b[1;33m\u001b[0m\u001b[0m\n\u001b[0m\u001b[1;32m     11\u001b[0m \u001b[0mtrans\u001b[0m \u001b[1;33m=\u001b[0m \u001b[0msplit_attribute_column\u001b[0m\u001b[1;33m(\u001b[0m\u001b[0mtrans\u001b[0m\u001b[1;33m)\u001b[0m\u001b[1;33m\u001b[0m\u001b[0m\n\u001b[1;32m     12\u001b[0m \u001b[0mexon\u001b[0m \u001b[1;33m=\u001b[0m \u001b[0msplit_attribute_column\u001b[0m\u001b[1;33m(\u001b[0m\u001b[0mexon\u001b[0m\u001b[1;33m)\u001b[0m\u001b[1;33m\u001b[0m\u001b[0m\n",
      "\u001b[0;32m<ipython-input-6-091a075c3475>\u001b[0m in \u001b[0;36msplit_attribute_column\u001b[0;34m(df)\u001b[0m\n\u001b[1;32m      3\u001b[0m     \u001b[0msloupců\u001b[0m\u001b[1;33m.\u001b[0m\u001b[1;33m\u001b[0m\u001b[0m\n\u001b[1;32m      4\u001b[0m     \"\"\"\n\u001b[0;32m----> 5\u001b[0;31m     \u001b[0mattributes_columns\u001b[0m \u001b[1;33m=\u001b[0m \u001b[0mdf\u001b[0m\u001b[1;33m.\u001b[0m\u001b[0mattribute\u001b[0m\u001b[1;33m.\u001b[0m\u001b[0mapply\u001b[0m\u001b[1;33m(\u001b[0m\u001b[0mparse_attributes\u001b[0m\u001b[1;33m)\u001b[0m\u001b[1;33m.\u001b[0m\u001b[0mapply\u001b[0m\u001b[1;33m(\u001b[0m\u001b[0mpd\u001b[0m\u001b[1;33m.\u001b[0m\u001b[0mSeries\u001b[0m\u001b[1;33m)\u001b[0m\u001b[1;33m\u001b[0m\u001b[0m\n\u001b[0m\u001b[1;32m      6\u001b[0m     return pd.concat([df.drop([\"attribute\"], axis=1),\n\u001b[1;32m      7\u001b[0m                       attributes_columns],\n",
      "\u001b[0;32mC:\\Program Files\\Anaconda3\\lib\\site-packages\\pandas\\core\\generic.py\u001b[0m in \u001b[0;36m__getattr__\u001b[0;34m(self, name)\u001b[0m\n\u001b[1;32m   2670\u001b[0m             \u001b[1;32mif\u001b[0m \u001b[0mname\u001b[0m \u001b[1;32min\u001b[0m \u001b[0mself\u001b[0m\u001b[1;33m.\u001b[0m\u001b[0m_info_axis\u001b[0m\u001b[1;33m:\u001b[0m\u001b[1;33m\u001b[0m\u001b[0m\n\u001b[1;32m   2671\u001b[0m                 \u001b[1;32mreturn\u001b[0m \u001b[0mself\u001b[0m\u001b[1;33m[\u001b[0m\u001b[0mname\u001b[0m\u001b[1;33m]\u001b[0m\u001b[1;33m\u001b[0m\u001b[0m\n\u001b[0;32m-> 2672\u001b[0;31m             \u001b[1;32mreturn\u001b[0m \u001b[0mobject\u001b[0m\u001b[1;33m.\u001b[0m\u001b[0m__getattribute__\u001b[0m\u001b[1;33m(\u001b[0m\u001b[0mself\u001b[0m\u001b[1;33m,\u001b[0m \u001b[0mname\u001b[0m\u001b[1;33m)\u001b[0m\u001b[1;33m\u001b[0m\u001b[0m\n\u001b[0m\u001b[1;32m   2673\u001b[0m \u001b[1;33m\u001b[0m\u001b[0m\n\u001b[1;32m   2674\u001b[0m     \u001b[1;32mdef\u001b[0m \u001b[0m__setattr__\u001b[0m\u001b[1;33m(\u001b[0m\u001b[0mself\u001b[0m\u001b[1;33m,\u001b[0m \u001b[0mname\u001b[0m\u001b[1;33m,\u001b[0m \u001b[0mvalue\u001b[0m\u001b[1;33m)\u001b[0m\u001b[1;33m:\u001b[0m\u001b[1;33m\u001b[0m\u001b[0m\n",
      "\u001b[0;31mAttributeError\u001b[0m: 'DataFrame' object has no attribute 'attribute'"
     ]
    }
   ],
   "source": [
    "def split_attribute_column(df):\n",
    "    \"\"\"Rozdělí sloupec `attribute` data frame GTF souboru do vlastních\n",
    "    sloupců.\n",
    "    \"\"\"\n",
    "    attributes_columns = df.attribute.apply(parse_attributes).apply(pd.Series)\n",
    "    return pd.concat([df.drop([\"attribute\"], axis=1),\n",
    "                      attributes_columns],\n",
    "                     axis=1)\n",
    "\n",
    "gene = split_attribute_column(gene)\n",
    "trans = split_attribute_column(trans)\n",
    "exon = split_attribute_column(exon)"
   ]
  },
  {
   "cell_type": "code",
   "execution_count": 7,
   "metadata": {
    "collapsed": false
   },
   "outputs": [
    {
     "data": {
      "text/plain": [
       "array(['3R', '3L', '2R', 'X', '2L', 'Y', '4', 'dmel_mitochondrion_genome',\n",
       "       'Unmapped_Scaffold_8', 'rDNA', '211000022280328', '211000022278498',\n",
       "       '211000022278875', '211000022279446', '211000022278279',\n",
       "       '211000022279681', '211000022280645', '211000022280494',\n",
       "       '211000022280703', '211000022280481', '211000022279188',\n",
       "       '211000022278724', '211000022278436', '211000022278282',\n",
       "       '211000022278664', '211000022280133', '211000022278522',\n",
       "       '211000022278879', '211000022278449', '211000022280347',\n",
       "       '211000022278298', '211000022278307', '211000022279529',\n",
       "       '211000022280341', '211000022279392', '211000022278604',\n",
       "       '211000022279708', '211000022279528', '211000022279531',\n",
       "       '211000022279555', '211000022278760', '211000022279222',\n",
       "       '211000022278750', '211000022278877', '211000022279055',\n",
       "       '211000022279165', '211000022279108', '211000022278309',\n",
       "       '211000022278603', '211000022278880', '211000022278878',\n",
       "       '211000022278985', '211000022278158', '211000022279264',\n",
       "       '211000022279134', '211000022279342', '211000022279132'], dtype=object)"
      ]
     },
     "execution_count": 7,
     "metadata": {},
     "output_type": "execute_result"
    }
   ],
   "source": [
    "gene[\"seqname\"].unique()"
   ]
  },
  {
   "cell_type": "code",
   "execution_count": 8,
   "metadata": {
    "collapsed": true
   },
   "outputs": [],
   "source": [
    "chromosomes = ['3R', '3L', '2R', 'X', '2L', 'Y', '4']\n",
    "gene = gene[gene[\"seqname\"].isin(chromosomes)]\n",
    "trans = trans[trans[\"seqname\"].isin(chromosomes)]\n",
    "exon = exon[exon[\"seqname\"].isin(chromosomes)]"
   ]
  },
  {
   "cell_type": "markdown",
   "metadata": {},
   "source": [
    "Koľko má chromozómov?\n",
    "\n",
    "Drosophila melanogaster má 4 chromozómy. Pohlavie závisí od tzv. X:A ratio a nie od prítomnostichromozómu Y. Ten však obsahuje gény spojené so samčími funkciami.\n",
    "\n",
    "https://en.wikipedia.org/wiki/Drosophila_melanogaster"
   ]
  },
  {
   "cell_type": "markdown",
   "metadata": {},
   "source": [
    "![chromozom](http://www.barnardhealth.us/drosophila-melanogaster/images/2057_2_1-chromosomes-drosophila.jpg)"
   ]
  },
  {
   "cell_type": "code",
   "execution_count": 9,
   "metadata": {
    "collapsed": false
   },
   "outputs": [
    {
     "data": {
      "text/plain": [
       "['3R', '3L', '2R', 'X', '2L', 'Y', '4']"
      ]
     },
     "execution_count": 9,
     "metadata": {},
     "output_type": "execute_result"
    }
   ],
   "source": [
    "chromosomes"
   ]
  },
  {
   "cell_type": "markdown",
   "metadata": {},
   "source": [
    "Koľko má génov?"
   ]
  },
  {
   "cell_type": "code",
   "execution_count": 10,
   "metadata": {
    "collapsed": false
   },
   "outputs": [
    {
     "data": {
      "text/plain": [
       "(17453, 11)"
      ]
     },
     "execution_count": 10,
     "metadata": {},
     "output_type": "execute_result"
    }
   ],
   "source": [
    "gene.shape"
   ]
  },
  {
   "cell_type": "code",
   "execution_count": 11,
   "metadata": {
    "collapsed": false
   },
   "outputs": [
    {
     "data": {
      "text/plain": [
       "17453"
      ]
     },
     "execution_count": 11,
     "metadata": {},
     "output_type": "execute_result"
    }
   ],
   "source": [
    "len(gene['gene_name'].unique())"
   ]
  },
  {
   "cell_type": "markdown",
   "metadata": {},
   "source": [
    "Aké veľké sú gény?"
   ]
  },
  {
   "cell_type": "code",
   "execution_count": 12,
   "metadata": {
    "collapsed": false,
    "scrolled": true
   },
   "outputs": [
    {
     "name": "stderr",
     "output_type": "stream",
     "text": [
      "C:\\Program Files\\Anaconda3\\lib\\site-packages\\ipykernel\\__main__.py:2: SettingWithCopyWarning: \n",
      "A value is trying to be set on a copy of a slice from a DataFrame.\n",
      "Try using .loc[row_indexer,col_indexer] = value instead\n",
      "\n",
      "See the caveats in the documentation: http://pandas.pydata.org/pandas-docs/stable/indexing.html#indexing-view-versus-copy\n",
      "  from ipykernel import kernelapp as app\n"
     ]
    },
    {
     "data": {
      "text/html": [
       "<div>\n",
       "<table border=\"1\" class=\"dataframe\">\n",
       "  <thead>\n",
       "    <tr style=\"text-align: right;\">\n",
       "      <th></th>\n",
       "      <th>seqname</th>\n",
       "      <th>source</th>\n",
       "      <th>feature</th>\n",
       "      <th>start</th>\n",
       "      <th>end</th>\n",
       "      <th>score</th>\n",
       "      <th>strand</th>\n",
       "      <th>frame</th>\n",
       "      <th>gene_biotype</th>\n",
       "      <th>gene_id</th>\n",
       "      <th>gene_name</th>\n",
       "      <th>gene_size</th>\n",
       "    </tr>\n",
       "  </thead>\n",
       "  <tbody>\n",
       "    <tr>\n",
       "      <th>0</th>\n",
       "      <td>3R</td>\n",
       "      <td>FlyBase</td>\n",
       "      <td>gene</td>\n",
       "      <td>722370</td>\n",
       "      <td>722621</td>\n",
       "      <td>.</td>\n",
       "      <td>-</td>\n",
       "      <td>.</td>\n",
       "      <td>pseudogene</td>\n",
       "      <td>FBgn0085804</td>\n",
       "      <td>CR41571</td>\n",
       "      <td>251</td>\n",
       "    </tr>\n",
       "    <tr>\n",
       "      <th>1</th>\n",
       "      <td>3R</td>\n",
       "      <td>FlyBase</td>\n",
       "      <td>gene</td>\n",
       "      <td>835381</td>\n",
       "      <td>2503907</td>\n",
       "      <td>.</td>\n",
       "      <td>+</td>\n",
       "      <td>.</td>\n",
       "      <td>protein_coding</td>\n",
       "      <td>FBgn0267431</td>\n",
       "      <td>CG45784</td>\n",
       "      <td>1668526</td>\n",
       "    </tr>\n",
       "    <tr>\n",
       "      <th>2</th>\n",
       "      <td>3R</td>\n",
       "      <td>FlyBase</td>\n",
       "      <td>gene</td>\n",
       "      <td>1031171</td>\n",
       "      <td>1031354</td>\n",
       "      <td>.</td>\n",
       "      <td>+</td>\n",
       "      <td>.</td>\n",
       "      <td>pseudogene</td>\n",
       "      <td>FBgn0039987</td>\n",
       "      <td>CR12798</td>\n",
       "      <td>183</td>\n",
       "    </tr>\n",
       "    <tr>\n",
       "      <th>3</th>\n",
       "      <td>3R</td>\n",
       "      <td>FlyBase</td>\n",
       "      <td>gene</td>\n",
       "      <td>2156916</td>\n",
       "      <td>2157206</td>\n",
       "      <td>.</td>\n",
       "      <td>-</td>\n",
       "      <td>.</td>\n",
       "      <td>pseudogene</td>\n",
       "      <td>FBgn0058182</td>\n",
       "      <td>CR40182</td>\n",
       "      <td>290</td>\n",
       "    </tr>\n",
       "    <tr>\n",
       "      <th>4</th>\n",
       "      <td>3R</td>\n",
       "      <td>FlyBase</td>\n",
       "      <td>gene</td>\n",
       "      <td>2554124</td>\n",
       "      <td>3263573</td>\n",
       "      <td>.</td>\n",
       "      <td>-</td>\n",
       "      <td>.</td>\n",
       "      <td>protein_coding</td>\n",
       "      <td>FBgn0267430</td>\n",
       "      <td>CG45783</td>\n",
       "      <td>709449</td>\n",
       "    </tr>\n",
       "  </tbody>\n",
       "</table>\n",
       "</div>"
      ],
      "text/plain": [
       "  seqname   source feature    start      end score strand frame  \\\n",
       "0      3R  FlyBase    gene   722370   722621     .      -     .   \n",
       "1      3R  FlyBase    gene   835381  2503907     .      +     .   \n",
       "2      3R  FlyBase    gene  1031171  1031354     .      +     .   \n",
       "3      3R  FlyBase    gene  2156916  2157206     .      -     .   \n",
       "4      3R  FlyBase    gene  2554124  3263573     .      -     .   \n",
       "\n",
       "     gene_biotype      gene_id gene_name  gene_size  \n",
       "0      pseudogene  FBgn0085804   CR41571        251  \n",
       "1  protein_coding  FBgn0267431   CG45784    1668526  \n",
       "2      pseudogene  FBgn0039987   CR12798        183  \n",
       "3      pseudogene  FBgn0058182   CR40182        290  \n",
       "4  protein_coding  FBgn0267430   CG45783     709449  "
      ]
     },
     "execution_count": 12,
     "metadata": {},
     "output_type": "execute_result"
    }
   ],
   "source": [
    "\n",
    "gene['gene_size'] = gene['end'] - gene['start']\n",
    "gene.head()"
   ]
  },
  {
   "cell_type": "code",
   "execution_count": 13,
   "metadata": {
    "collapsed": false
   },
   "outputs": [
    {
     "data": {
      "text/html": [
       "<div>\n",
       "<table border=\"1\" class=\"dataframe\">\n",
       "  <thead>\n",
       "    <tr style=\"text-align: right;\">\n",
       "      <th></th>\n",
       "      <th>seqname</th>\n",
       "      <th>source</th>\n",
       "      <th>feature</th>\n",
       "      <th>start</th>\n",
       "      <th>end</th>\n",
       "      <th>score</th>\n",
       "      <th>strand</th>\n",
       "      <th>frame</th>\n",
       "      <th>gene_biotype</th>\n",
       "      <th>gene_id</th>\n",
       "      <th>gene_name</th>\n",
       "      <th>gene_size</th>\n",
       "    </tr>\n",
       "  </thead>\n",
       "  <tbody>\n",
       "    <tr>\n",
       "      <th>13805</th>\n",
       "      <td>X</td>\n",
       "      <td>FlyBase</td>\n",
       "      <td>gene</td>\n",
       "      <td>23291700</td>\n",
       "      <td>23291729</td>\n",
       "      <td>.</td>\n",
       "      <td>+</td>\n",
       "      <td>.</td>\n",
       "      <td>rRNA</td>\n",
       "      <td>FBgn0267524</td>\n",
       "      <td>2SrRNA:CR45864</td>\n",
       "      <td>29</td>\n",
       "    </tr>\n",
       "    <tr>\n",
       "      <th>13795</th>\n",
       "      <td>X</td>\n",
       "      <td>FlyBase</td>\n",
       "      <td>gene</td>\n",
       "      <td>23214040</td>\n",
       "      <td>23214069</td>\n",
       "      <td>.</td>\n",
       "      <td>+</td>\n",
       "      <td>.</td>\n",
       "      <td>pseudogene</td>\n",
       "      <td>FBgn0267518</td>\n",
       "      <td>2SrRNA-Psi:CR45858</td>\n",
       "      <td>29</td>\n",
       "    </tr>\n",
       "    <tr>\n",
       "      <th>13791</th>\n",
       "      <td>X</td>\n",
       "      <td>FlyBase</td>\n",
       "      <td>gene</td>\n",
       "      <td>23205409</td>\n",
       "      <td>23205438</td>\n",
       "      <td>.</td>\n",
       "      <td>+</td>\n",
       "      <td>.</td>\n",
       "      <td>pseudogene</td>\n",
       "      <td>FBgn0085765</td>\n",
       "      <td>2SrRNA-Psi:CR40677</td>\n",
       "      <td>29</td>\n",
       "    </tr>\n",
       "    <tr>\n",
       "      <th>17189</th>\n",
       "      <td>2L</td>\n",
       "      <td>FlyBase</td>\n",
       "      <td>gene</td>\n",
       "      <td>21680670</td>\n",
       "      <td>21680700</td>\n",
       "      <td>.</td>\n",
       "      <td>-</td>\n",
       "      <td>.</td>\n",
       "      <td>lincRNA</td>\n",
       "      <td>FBgn0065100</td>\n",
       "      <td>snmRNA:254</td>\n",
       "      <td>30</td>\n",
       "    </tr>\n",
       "    <tr>\n",
       "      <th>16735</th>\n",
       "      <td>2L</td>\n",
       "      <td>FlyBase</td>\n",
       "      <td>gene</td>\n",
       "      <td>19403535</td>\n",
       "      <td>19403568</td>\n",
       "      <td>.</td>\n",
       "      <td>-</td>\n",
       "      <td>.</td>\n",
       "      <td>lincRNA</td>\n",
       "      <td>FBgn0065096</td>\n",
       "      <td>snmRNA:359</td>\n",
       "      <td>33</td>\n",
       "    </tr>\n",
       "  </tbody>\n",
       "</table>\n",
       "</div>"
      ],
      "text/plain": [
       "      seqname   source feature     start       end score strand frame  \\\n",
       "13805       X  FlyBase    gene  23291700  23291729     .      +     .   \n",
       "13795       X  FlyBase    gene  23214040  23214069     .      +     .   \n",
       "13791       X  FlyBase    gene  23205409  23205438     .      +     .   \n",
       "17189      2L  FlyBase    gene  21680670  21680700     .      -     .   \n",
       "16735      2L  FlyBase    gene  19403535  19403568     .      -     .   \n",
       "\n",
       "      gene_biotype      gene_id           gene_name  gene_size  \n",
       "13805         rRNA  FBgn0267524      2SrRNA:CR45864         29  \n",
       "13795   pseudogene  FBgn0267518  2SrRNA-Psi:CR45858         29  \n",
       "13791   pseudogene  FBgn0085765  2SrRNA-Psi:CR40677         29  \n",
       "17189      lincRNA  FBgn0065100          snmRNA:254         30  \n",
       "16735      lincRNA  FBgn0065096          snmRNA:359         33  "
      ]
     },
     "execution_count": 13,
     "metadata": {},
     "output_type": "execute_result"
    }
   ],
   "source": [
    "gene.sort_values('gene_size').head()"
   ]
  },
  {
   "cell_type": "markdown",
   "metadata": {},
   "source": [
    "Koľko génov majú jednotlivé chromozómy?"
   ]
  },
  {
   "cell_type": "code",
   "execution_count": 14,
   "metadata": {
    "collapsed": false
   },
   "outputs": [
    {
     "data": {
      "text/plain": [
       "3R    4125\n",
       "2R    3601\n",
       "2L    3465\n",
       "3L    3433\n",
       "X     2647\n",
       "4      111\n",
       "Y       71\n",
       "Name: seqname, dtype: int64"
      ]
     },
     "execution_count": 14,
     "metadata": {},
     "output_type": "execute_result"
    }
   ],
   "source": [
    "gene_chr = gene['seqname'].value_counts()\n",
    "gene_chr"
   ]
  },
  {
   "cell_type": "code",
   "execution_count": 17,
   "metadata": {
    "collapsed": false
   },
   "outputs": [
    {
     "ename": "AttributeError",
     "evalue": "module 'matplotlib' has no attribute 'gcf'",
     "output_type": "error",
     "traceback": [
      "\u001b[0;31m---------------------------------------------------------------------------\u001b[0m",
      "\u001b[0;31mAttributeError\u001b[0m                            Traceback (most recent call last)",
      "\u001b[0;32m<ipython-input-17-415a216edf59>\u001b[0m in \u001b[0;36m<module>\u001b[0;34m()\u001b[0m\n\u001b[1;32m      6\u001b[0m \u001b[0mpylt\u001b[0m\u001b[1;33m.\u001b[0m\u001b[0mxlabel\u001b[0m\u001b[1;33m(\u001b[0m\u001b[1;34m\"chromozóm\"\u001b[0m\u001b[1;33m)\u001b[0m\u001b[1;33m\u001b[0m\u001b[0m\n\u001b[1;32m      7\u001b[0m \u001b[0mpylt\u001b[0m\u001b[1;33m.\u001b[0m\u001b[0mtitle\u001b[0m\u001b[1;33m(\u001b[0m\u001b[1;34m'Graf počtu génov na jednotlivých chromozómoch'\u001b[0m\u001b[1;33m)\u001b[0m\u001b[1;33m\u001b[0m\u001b[0m\n\u001b[0;32m----> 8\u001b[0;31m \u001b[1;32mfor\u001b[0m \u001b[0max\u001b[0m \u001b[1;32min\u001b[0m \u001b[0mplt\u001b[0m\u001b[1;33m.\u001b[0m\u001b[0mgcf\u001b[0m\u001b[1;33m(\u001b[0m\u001b[1;33m)\u001b[0m\u001b[1;33m.\u001b[0m\u001b[0maxes\u001b[0m\u001b[1;33m:\u001b[0m\u001b[1;33m\u001b[0m\u001b[0m\n\u001b[0m\u001b[1;32m      9\u001b[0m     \u001b[0mpylt\u001b[0m\u001b[1;33m.\u001b[0m\u001b[0msca\u001b[0m\u001b[1;33m(\u001b[0m\u001b[0max\u001b[0m\u001b[1;33m)\u001b[0m\u001b[1;33m\u001b[0m\u001b[0m\n\u001b[1;32m     10\u001b[0m     \u001b[0mpylt\u001b[0m\u001b[1;33m.\u001b[0m\u001b[0mxticks\u001b[0m\u001b[1;33m(\u001b[0m\u001b[0max\u001b[0m\u001b[1;33m.\u001b[0m\u001b[0mget_xticks\u001b[0m\u001b[1;33m(\u001b[0m\u001b[1;33m)\u001b[0m\u001b[1;33m,\u001b[0m \u001b[0mrotation\u001b[0m\u001b[1;33m=\u001b[0m\u001b[1;36m0\u001b[0m\u001b[1;33m)\u001b[0m\u001b[1;33m\u001b[0m\u001b[0m\n",
      "\u001b[0;31mAttributeError\u001b[0m: module 'matplotlib' has no attribute 'gcf'"
     ]
    },
    {
     "data": {
      "image/png": "[encoded data removed]",
      "text/plain": [
       "<matplotlib.figure.Figure at 0x23afc230>"
      ]
     },
     "metadata": {},
     "output_type": "display_data"
    }
   ],
   "source": [
    "%matplotlib inline\n",
    "y_pos = np.arange(7)\n",
    "pylt.bar(y_pos, gene_chr,align='center', alpha=0.7) \n",
    "pylt.xticks(y_pos, [\"3R\",\"2R\",\"2L\",\"3L\",\"X\",\"4\",\"Y\"])\n",
    "pylt.ylabel('počet génov')\n",
    "pylt.xlabel(\"chromozóm\")\n",
    "pylt.title('Graf počtu génov na jednotlivých chromozómoch')\n",
    "for ax in plt.gcf().axes:\n",
    "    pylt.sca(ax)\n",
    "    pylt.xticks(ax.get_xticks(), rotation=0)\n",
    "pylt.show()"
   ]
  },
  {
   "cell_type": "markdown",
   "metadata": {},
   "source": [
    "Koľko má transkriptov?"
   ]
  },
  {
   "cell_type": "code",
   "execution_count": 18,
   "metadata": {
    "collapsed": false
   },
   "outputs": [
    {
     "data": {
      "text/plain": [
       "(34633, 13)"
      ]
     },
     "execution_count": 18,
     "metadata": {},
     "output_type": "execute_result"
    }
   ],
   "source": [
    "trans.shape"
   ]
  },
  {
   "cell_type": "code",
   "execution_count": 19,
   "metadata": {
    "collapsed": false
   },
   "outputs": [
    {
     "data": {
      "text/plain": [
       "34633"
      ]
     },
     "execution_count": 19,
     "metadata": {},
     "output_type": "execute_result"
    }
   ],
   "source": [
    "len(trans['transcript_id'].unique())"
   ]
  },
  {
   "cell_type": "markdown",
   "metadata": {},
   "source": [
    "Koľko transkriptov majú jednotlivé chromozómy?"
   ]
  },
  {
   "cell_type": "code",
   "execution_count": 20,
   "metadata": {
    "collapsed": false
   },
   "outputs": [
    {
     "data": {
      "text/plain": [
       "3R    8010\n",
       "2R    6927\n",
       "3L    6676\n",
       "2L    6632\n",
       "X     5973\n",
       "4      343\n",
       "Y       72\n",
       "Name: seqname, dtype: int64"
      ]
     },
     "execution_count": 20,
     "metadata": {},
     "output_type": "execute_result"
    }
   ],
   "source": [
    "trans_chr = trans['seqname'].value_counts()\n",
    "trans_chr"
   ]
  },
  {
   "cell_type": "code",
   "execution_count": 21,
   "metadata": {
    "collapsed": false
   },
   "outputs": [
    {
     "ename": "AttributeError",
     "evalue": "module 'matplotlib' has no attribute 'gcf'",
     "output_type": "error",
     "traceback": [
      "\u001b[0;31m---------------------------------------------------------------------------\u001b[0m",
      "\u001b[0;31mAttributeError\u001b[0m                            Traceback (most recent call last)",
      "\u001b[0;32m<ipython-input-21-ba9d77f3ae15>\u001b[0m in \u001b[0;36m<module>\u001b[0;34m()\u001b[0m\n\u001b[1;32m      5\u001b[0m \u001b[0mpylt\u001b[0m\u001b[1;33m.\u001b[0m\u001b[0mxlabel\u001b[0m\u001b[1;33m(\u001b[0m\u001b[1;34m\"chromozóm\"\u001b[0m\u001b[1;33m)\u001b[0m\u001b[1;33m\u001b[0m\u001b[0m\n\u001b[1;32m      6\u001b[0m \u001b[0mpylt\u001b[0m\u001b[1;33m.\u001b[0m\u001b[0mtitle\u001b[0m\u001b[1;33m(\u001b[0m\u001b[1;34m'Graf počtu transkriptov na jednotlivých chromozómoch'\u001b[0m\u001b[1;33m)\u001b[0m\u001b[1;33m\u001b[0m\u001b[0m\n\u001b[0;32m----> 7\u001b[0;31m \u001b[1;32mfor\u001b[0m \u001b[0max\u001b[0m \u001b[1;32min\u001b[0m \u001b[0mplt\u001b[0m\u001b[1;33m.\u001b[0m\u001b[0mgcf\u001b[0m\u001b[1;33m(\u001b[0m\u001b[1;33m)\u001b[0m\u001b[1;33m.\u001b[0m\u001b[0maxes\u001b[0m\u001b[1;33m:\u001b[0m\u001b[1;33m\u001b[0m\u001b[0m\n\u001b[0m\u001b[1;32m      8\u001b[0m     \u001b[0mpylt\u001b[0m\u001b[1;33m.\u001b[0m\u001b[0msca\u001b[0m\u001b[1;33m(\u001b[0m\u001b[0max\u001b[0m\u001b[1;33m)\u001b[0m\u001b[1;33m\u001b[0m\u001b[0m\n\u001b[1;32m      9\u001b[0m     \u001b[0mpylt\u001b[0m\u001b[1;33m.\u001b[0m\u001b[0mxticks\u001b[0m\u001b[1;33m(\u001b[0m\u001b[0max\u001b[0m\u001b[1;33m.\u001b[0m\u001b[0mget_xticks\u001b[0m\u001b[1;33m(\u001b[0m\u001b[1;33m)\u001b[0m\u001b[1;33m,\u001b[0m \u001b[0mrotation\u001b[0m\u001b[1;33m=\u001b[0m\u001b[1;36m0\u001b[0m\u001b[1;33m)\u001b[0m\u001b[1;33m\u001b[0m\u001b[0m\n",
      "\u001b[0;31mAttributeError\u001b[0m: module 'matplotlib' has no attribute 'gcf'"
     ]
    },
    {
     "data": {
      "image/png": "[encoded data removed]",
      "text/plain": [
       "<matplotlib.figure.Figure at 0x1560d610>"
      ]
     },
     "metadata": {},
     "output_type": "display_data"
    }
   ],
   "source": [
    "y_pos = np.arange(7)\n",
    "pylt.bar(y_pos, trans_chr,align='center', alpha=0.7) \n",
    "pylt.xticks(y_pos, [\"3R\",\"2R\",\"2L\",\"3L\",\"X\",\"4\",\"Y\"])\n",
    "pylt.ylabel('počet transkriptov')\n",
    "pylt.xlabel(\"chromozóm\")\n",
    "pylt.title('Graf počtu transkriptov na jednotlivých chromozómoch')\n",
    "for ax in plt.gcf().axes:\n",
    "    pylt.sca(ax)\n",
    "    pylt.xticks(ax.get_xticks(), rotation=0)\n",
    "pylt.show()"
   ]
  },
  {
   "cell_type": "markdown",
   "metadata": {},
   "source": [
    "Koľko transkiptov majú jednotlivé gény?"
   ]
  },
  {
   "cell_type": "code",
   "execution_count": 22,
   "metadata": {
    "collapsed": true
   },
   "outputs": [],
   "source": [
    "transs = trans['gene_name'].value_counts()\n",
    "transs.to_csv('C:/Users/Gabika/Documents/Python/transs.gtf')\n",
    "transs = pd.read_csv('C:/Users/Gabika/Documents/Python/transs.gtf', header=None)\n",
    "transs.columns = ['name', 'count']\n",
    "transs.sort_values(['name']).to_csv('C:/Users/Gabika/Documents/Python/transs.gtf')\n",
    "transs = pd.read_csv('C:/Users/Gabika/Documents/Python/transs.gtf')"
   ]
  },
  {
   "cell_type": "code",
   "execution_count": 23,
   "metadata": {
    "collapsed": false
   },
   "outputs": [
    {
     "data": {
      "text/html": [
       "<div>\n",
       "<table border=\"1\" class=\"dataframe\">\n",
       "  <thead>\n",
       "    <tr style=\"text-align: right;\">\n",
       "      <th></th>\n",
       "      <th>Unnamed: 0</th>\n",
       "      <th>name</th>\n",
       "      <th>count</th>\n",
       "    </tr>\n",
       "  </thead>\n",
       "  <tbody>\n",
       "    <tr>\n",
       "      <th>10983</th>\n",
       "      <td>0</td>\n",
       "      <td>Dscam1</td>\n",
       "      <td>75</td>\n",
       "    </tr>\n",
       "    <tr>\n",
       "      <th>15990</th>\n",
       "      <td>1</td>\n",
       "      <td>para</td>\n",
       "      <td>60</td>\n",
       "    </tr>\n",
       "    <tr>\n",
       "      <th>6119</th>\n",
       "      <td>2</td>\n",
       "      <td>CG45186</td>\n",
       "      <td>31</td>\n",
       "    </tr>\n",
       "    <tr>\n",
       "      <th>15333</th>\n",
       "      <td>5</td>\n",
       "      <td>lola</td>\n",
       "      <td>25</td>\n",
       "    </tr>\n",
       "    <tr>\n",
       "      <th>13752</th>\n",
       "      <td>3</td>\n",
       "      <td>Sxl</td>\n",
       "      <td>25</td>\n",
       "    </tr>\n",
       "  </tbody>\n",
       "</table>\n",
       "</div>"
      ],
      "text/plain": [
       "       Unnamed: 0     name  count\n",
       "10983           0   Dscam1     75\n",
       "15990           1     para     60\n",
       "6119            2  CG45186     31\n",
       "15333           5     lola     25\n",
       "13752           3      Sxl     25"
      ]
     },
     "execution_count": 23,
     "metadata": {},
     "output_type": "execute_result"
    }
   ],
   "source": [
    "transs.sort_values(['count'], ascending=False).head()"
   ]
  },
  {
   "cell_type": "markdown",
   "metadata": {
    "collapsed": true
   },
   "source": [
    "Najviac transkriptov má gén Dscam1. Mnoho jeho alel je letálnych počas vývoja.\n",
    "\n",
    "http://flybase.org/reports/FBgn0033159.html"
   ]
  },
  {
   "cell_type": "raw",
   "metadata": {},
   "source": []
  },
  {
   "cell_type": "markdown",
   "metadata": {},
   "source": [
    "Koľko exonov majú jednotlivé transkripty?"
   ]
  },
  {
   "cell_type": "code",
   "execution_count": 24,
   "metadata": {
    "collapsed": true
   },
   "outputs": [],
   "source": [
    "exons = exon['transcript_name'].value_counts()\n",
    "exons.to_csv('C:/Users/Gabika/Documents/Python/exons.gtf')\n",
    "exons = pd.read_csv('C:/Users/Gabika/Documents/Python/exons.gtf', header=None)\n",
    "exons.columns = ['name', 'count']\n",
    "exons.sort_values(['name']).to_csv('C:/Users/Gabika/Documents/Python/exons.gtf')\n",
    "exons = pd.read_csv('C:/Users/Gabika/Documents/Python/exons.gtf')"
   ]
  },
  {
   "cell_type": "code",
   "execution_count": 25,
   "metadata": {
    "collapsed": false
   },
   "outputs": [
    {
     "data": {
      "text/html": [
       "<div>\n",
       "<table border=\"1\" class=\"dataframe\">\n",
       "  <thead>\n",
       "    <tr style=\"text-align: right;\">\n",
       "      <th></th>\n",
       "      <th>Unnamed: 0</th>\n",
       "      <th>name</th>\n",
       "      <th>count</th>\n",
       "    </tr>\n",
       "  </thead>\n",
       "  <tbody>\n",
       "    <tr>\n",
       "      <th>28044</th>\n",
       "      <td>1</td>\n",
       "      <td>dp-RO</td>\n",
       "      <td>82</td>\n",
       "    </tr>\n",
       "    <tr>\n",
       "      <th>28046</th>\n",
       "      <td>0</td>\n",
       "      <td>dp-RQ</td>\n",
       "      <td>82</td>\n",
       "    </tr>\n",
       "    <tr>\n",
       "      <th>28047</th>\n",
       "      <td>2</td>\n",
       "      <td>dp-RR</td>\n",
       "      <td>81</td>\n",
       "    </tr>\n",
       "    <tr>\n",
       "      <th>28051</th>\n",
       "      <td>3</td>\n",
       "      <td>dp-RV</td>\n",
       "      <td>80</td>\n",
       "    </tr>\n",
       "    <tr>\n",
       "      <th>28048</th>\n",
       "      <td>4</td>\n",
       "      <td>dp-RS</td>\n",
       "      <td>78</td>\n",
       "    </tr>\n",
       "  </tbody>\n",
       "</table>\n",
       "</div>"
      ],
      "text/plain": [
       "       Unnamed: 0   name  count\n",
       "28044           1  dp-RO     82\n",
       "28046           0  dp-RQ     82\n",
       "28047           2  dp-RR     81\n",
       "28051           3  dp-RV     80\n",
       "28048           4  dp-RS     78"
      ]
     },
     "execution_count": 25,
     "metadata": {},
     "output_type": "execute_result"
    }
   ],
   "source": [
    "exons.sort_values(['count'], ascending=False).head()"
   ]
  },
  {
   "cell_type": "markdown",
   "metadata": {},
   "source": [
    "Najviac exonov majú transkripty génu DP, ktoré kódujú DP transkripčný faktor. \n",
    "\n",
    "http://flybase.org/reports/FBgn0011763.html"
   ]
  },
  {
   "cell_type": "code",
   "execution_count": 26,
   "metadata": {
    "collapsed": false
   },
   "outputs": [
    {
     "data": {
      "text/html": [
       "<div>\n",
       "<table border=\"1\" class=\"dataframe\">\n",
       "  <thead>\n",
       "    <tr style=\"text-align: right;\">\n",
       "      <th></th>\n",
       "      <th>Unnamed: 0</th>\n",
       "      <th>seqname</th>\n",
       "      <th>source</th>\n",
       "      <th>feature</th>\n",
       "      <th>start</th>\n",
       "      <th>end</th>\n",
       "      <th>score</th>\n",
       "      <th>strand</th>\n",
       "      <th>frame</th>\n",
       "      <th>gene_biotype</th>\n",
       "      <th>gene_id</th>\n",
       "      <th>gene_name</th>\n",
       "      <th>gene_size</th>\n",
       "    </tr>\n",
       "  </thead>\n",
       "  <tbody>\n",
       "    <tr>\n",
       "      <th>0</th>\n",
       "      <td>8665</td>\n",
       "      <td>2R</td>\n",
       "      <td>FlyBase</td>\n",
       "      <td>gene</td>\n",
       "      <td>12037298</td>\n",
       "      <td>12038851</td>\n",
       "      <td>.</td>\n",
       "      <td>+</td>\n",
       "      <td>.</td>\n",
       "      <td>protein_coding</td>\n",
       "      <td>FBgn0010339</td>\n",
       "      <td>128up</td>\n",
       "      <td>1553</td>\n",
       "    </tr>\n",
       "    <tr>\n",
       "      <th>1</th>\n",
       "      <td>2118</td>\n",
       "      <td>3R</td>\n",
       "      <td>FlyBase</td>\n",
       "      <td>gene</td>\n",
       "      <td>18242531</td>\n",
       "      <td>18250550</td>\n",
       "      <td>.</td>\n",
       "      <td>+</td>\n",
       "      <td>.</td>\n",
       "      <td>protein_coding</td>\n",
       "      <td>FBgn0020238</td>\n",
       "      <td>14-3-3epsilon</td>\n",
       "      <td>8019</td>\n",
       "    </tr>\n",
       "    <tr>\n",
       "      <th>2</th>\n",
       "      <td>8376</td>\n",
       "      <td>2R</td>\n",
       "      <td>FlyBase</td>\n",
       "      <td>gene</td>\n",
       "      <td>10099677</td>\n",
       "      <td>10109687</td>\n",
       "      <td>.</td>\n",
       "      <td>+</td>\n",
       "      <td>.</td>\n",
       "      <td>protein_coding</td>\n",
       "      <td>FBgn0004907</td>\n",
       "      <td>14-3-3zeta</td>\n",
       "      <td>10010</td>\n",
       "    </tr>\n",
       "    <tr>\n",
       "      <th>3</th>\n",
       "      <td>1527</td>\n",
       "      <td>3R</td>\n",
       "      <td>FlyBase</td>\n",
       "      <td>gene</td>\n",
       "      <td>14124163</td>\n",
       "      <td>14125548</td>\n",
       "      <td>.</td>\n",
       "      <td>-</td>\n",
       "      <td>.</td>\n",
       "      <td>protein_coding</td>\n",
       "      <td>FBgn0010340</td>\n",
       "      <td>140up</td>\n",
       "      <td>1385</td>\n",
       "    </tr>\n",
       "    <tr>\n",
       "      <th>4</th>\n",
       "      <td>13793</td>\n",
       "      <td>X</td>\n",
       "      <td>FlyBase</td>\n",
       "      <td>gene</td>\n",
       "      <td>23211192</td>\n",
       "      <td>23213166</td>\n",
       "      <td>.</td>\n",
       "      <td>+</td>\n",
       "      <td>.</td>\n",
       "      <td>pseudogene</td>\n",
       "      <td>FBgn0085813</td>\n",
       "      <td>18SrRNA-Psi:CR41602</td>\n",
       "      <td>1974</td>\n",
       "    </tr>\n",
       "  </tbody>\n",
       "</table>\n",
       "</div>"
      ],
      "text/plain": [
       "   Unnamed: 0 seqname   source feature     start       end score strand frame  \\\n",
       "0        8665      2R  FlyBase    gene  12037298  12038851     .      +     .   \n",
       "1        2118      3R  FlyBase    gene  18242531  18250550     .      +     .   \n",
       "2        8376      2R  FlyBase    gene  10099677  10109687     .      +     .   \n",
       "3        1527      3R  FlyBase    gene  14124163  14125548     .      -     .   \n",
       "4       13793       X  FlyBase    gene  23211192  23213166     .      +     .   \n",
       "\n",
       "     gene_biotype      gene_id            gene_name  gene_size  \n",
       "0  protein_coding  FBgn0010339                128up       1553  \n",
       "1  protein_coding  FBgn0020238        14-3-3epsilon       8019  \n",
       "2  protein_coding  FBgn0004907           14-3-3zeta      10010  \n",
       "3  protein_coding  FBgn0010340                140up       1385  \n",
       "4      pseudogene  FBgn0085813  18SrRNA-Psi:CR41602       1974  "
      ]
     },
     "execution_count": 26,
     "metadata": {},
     "output_type": "execute_result"
    }
   ],
   "source": [
    "gene.sort_values(['gene_name']).to_csv('C:/Users/Gabika/Documents/Python/drosophila_melanogaster_gene1.gtf')\n",
    "gene1 = pd.read_csv('C:/Users/Gabika/Documents/Python/drosophila_melanogaster_gene1.gtf')\n",
    "gene1.head()"
   ]
  },
  {
   "cell_type": "code",
   "execution_count": 27,
   "metadata": {
    "collapsed": false
   },
   "outputs": [
    {
     "data": {
      "text/plain": [
       "<matplotlib.text.Text at 0x143c3870>"
      ]
     },
     "execution_count": 27,
     "metadata": {},
     "output_type": "execute_result"
    },
    {
     "data": {
      "image/png": "[encoded data removed]",
      "text/plain": [
       "<matplotlib.figure.Figure at 0x1442ecf0>"
      ]
     },
     "metadata": {},
     "output_type": "display_data"
    }
   ],
   "source": [
    "fig,ax = plt.pyplot.subplots()\n",
    "fit = np.polyfit(gene1['gene_size'], transs[\"count\"], deg=1)\n",
    "ax.plot(gene1[\"gene_size\"],  fit[0] * gene1[\"gene_size\"] + fit[1], color='red')\n",
    "ax.scatter(gene1[\"gene_size\"], transs[\"count\"])\n",
    "ax.set_ylabel(\"Pocet transkriptov\")\n",
    "pl.suptitle(\"Vztah medzi velkostou genu a poctom transkriptov\")"
   ]
  },
  {
   "cell_type": "markdown",
   "metadata": {},
   "source": [
    "Koľko exonov majú jednotlivé chromozómy? "
   ]
  },
  {
   "cell_type": "code",
   "execution_count": 28,
   "metadata": {
    "collapsed": false
   },
   "outputs": [
    {
     "data": {
      "text/plain": [
       "3R    43159\n",
       "2R    38551\n",
       "3L    34347\n",
       "X     34136\n",
       "2L    32747\n",
       "4      3165\n",
       "Y       182\n",
       "Name: seqname, dtype: int64"
      ]
     },
     "execution_count": 28,
     "metadata": {},
     "output_type": "execute_result"
    }
   ],
   "source": [
    "exon_chr = exon['seqname'].value_counts()\n",
    "exon_chr"
   ]
  },
  {
   "cell_type": "code",
   "execution_count": 29,
   "metadata": {
    "collapsed": false
   },
   "outputs": [
    {
     "ename": "AttributeError",
     "evalue": "module 'matplotlib' has no attribute 'gcf'",
     "output_type": "error",
     "traceback": [
      "\u001b[0;31m---------------------------------------------------------------------------\u001b[0m",
      "\u001b[0;31mAttributeError\u001b[0m                            Traceback (most recent call last)",
      "\u001b[0;32m<ipython-input-29-ab5ef74585d7>\u001b[0m in \u001b[0;36m<module>\u001b[0;34m()\u001b[0m\n\u001b[1;32m      5\u001b[0m \u001b[0mpylt\u001b[0m\u001b[1;33m.\u001b[0m\u001b[0mxlabel\u001b[0m\u001b[1;33m(\u001b[0m\u001b[1;34m\"chromozóm\"\u001b[0m\u001b[1;33m)\u001b[0m\u001b[1;33m\u001b[0m\u001b[0m\n\u001b[1;32m      6\u001b[0m \u001b[0mpylt\u001b[0m\u001b[1;33m.\u001b[0m\u001b[0mtitle\u001b[0m\u001b[1;33m(\u001b[0m\u001b[1;34m'Graf počtu exonov na jednotlivých chromozómoch'\u001b[0m\u001b[1;33m)\u001b[0m\u001b[1;33m\u001b[0m\u001b[0m\n\u001b[0;32m----> 7\u001b[0;31m \u001b[1;32mfor\u001b[0m \u001b[0max\u001b[0m \u001b[1;32min\u001b[0m \u001b[0mplt\u001b[0m\u001b[1;33m.\u001b[0m\u001b[0mgcf\u001b[0m\u001b[1;33m(\u001b[0m\u001b[1;33m)\u001b[0m\u001b[1;33m.\u001b[0m\u001b[0maxes\u001b[0m\u001b[1;33m:\u001b[0m\u001b[1;33m\u001b[0m\u001b[0m\n\u001b[0m\u001b[1;32m      8\u001b[0m     \u001b[0mpylt\u001b[0m\u001b[1;33m.\u001b[0m\u001b[0msca\u001b[0m\u001b[1;33m(\u001b[0m\u001b[0max\u001b[0m\u001b[1;33m)\u001b[0m\u001b[1;33m\u001b[0m\u001b[0m\n\u001b[1;32m      9\u001b[0m     \u001b[0mpylt\u001b[0m\u001b[1;33m.\u001b[0m\u001b[0mxticks\u001b[0m\u001b[1;33m(\u001b[0m\u001b[0max\u001b[0m\u001b[1;33m.\u001b[0m\u001b[0mget_xticks\u001b[0m\u001b[1;33m(\u001b[0m\u001b[1;33m)\u001b[0m\u001b[1;33m,\u001b[0m \u001b[0mrotation\u001b[0m\u001b[1;33m=\u001b[0m\u001b[1;36m0\u001b[0m\u001b[1;33m)\u001b[0m\u001b[1;33m\u001b[0m\u001b[0m\n",
      "\u001b[0;31mAttributeError\u001b[0m: module 'matplotlib' has no attribute 'gcf'"
     ]
    },
    {
     "data": {
      "image/png": "[encoded data removed]",
      "text/plain": [
       "<matplotlib.figure.Figure at 0x14406b10>"
      ]
     },
     "metadata": {},
     "output_type": "display_data"
    }
   ],
   "source": [
    "y_pos = np.arange(7)\n",
    "pylt.bar(y_pos, exon_chr,align='center', alpha=0.7) \n",
    "pylt.xticks(y_pos, [\"3R\",\"2R\",\"2L\",\"3L\",\"X\",\"4\",\"Y\"])\n",
    "pylt.ylabel('počet exonov')\n",
    "pylt.xlabel(\"chromozóm\")\n",
    "pylt.title('Graf počtu exonov na jednotlivých chromozómoch')\n",
    "for ax in plt.gcf().axes:\n",
    "    pylt.sca(ax)\n",
    "    pylt.xticks(ax.get_xticks(), rotation=0)\n",
    "pylt.show()"
   ]
  },
  {
   "cell_type": "markdown",
   "metadata": {},
   "source": [
    "Na štvrtom chromozóme sa nachádza jeden veľmi dôležitý gén, pax6. Tento gén je dôležitý pri vývoji očí. Paradoxne sa nazýva bezoký (eyeless)\n",
    "\n",
    "http://flybase.org/reports/FBgn0005558.html"
   ]
  },
  {
   "cell_type": "code",
   "execution_count": null,
   "metadata": {
    "collapsed": true
   },
   "outputs": [],
   "source": []
  },
  {
   "cell_type": "code",
   "execution_count": null,
   "metadata": {
    "collapsed": true
   },
   "outputs": [],
   "source": []
  },
  {
   "cell_type": "code",
   "execution_count": null,
   "metadata": {
    "collapsed": true
   },
   "outputs": [],
   "source": []
  }
 ],
 "metadata": {
  "anaconda-cloud": {},
  "kernelspec": {
   "display_name": "Python [conda root]",
   "language": "python",
   "name": "conda-root-py"
  },
  "language_info": {
   "codemirror_mode": {
    "name": "ipython",
    "version": 3
   },
   "file_extension": ".py",
   "mimetype": "text/x-python",
   "name": "python",
   "nbconvert_exporter": "python",
   "pygments_lexer": "ipython3",
   "version": "3.5.2"
  }
 },
 "nbformat": 4,
 "nbformat_minor": 1
}
