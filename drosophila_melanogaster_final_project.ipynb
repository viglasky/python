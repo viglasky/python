{
 "cells": [
  {
   "cell_type": "markdown",
   "metadata": {},
   "source": [
    "# Drosophila Melanogaster - Octomilka obecná\n",
    "\n",
    "## Jakub Víglaský\n",
    "\n",
    "![drosophila](http://www.yourgenome.org/sites/default/files/styles/banner/public/banners/stories/fruit-flies-in-the-laboratory/single-fruit-fly-drosophila-melanogaster-on-white-background-cropped.jpg?itok=3pTTh8c5)\n",
    "\n",
    "\n",
    "Octomilka obecná (Drosophila melanogaster), **čeleď** octomilkovití, **řád** dvoukřídlí (Diptera). Druhové jméno pochází z řečtiny a znamená \"černobřichá\". Drosophily, tzv. \"banánové\" nebo \"ovocné mušky\", jsou využívány jako laboratorní zvířata nebo krmivo, ale především jako nejrozšířenější modelové organismy v biologii a v genetických studiích, fyziologii a evoluční biologii.  \n",
    "Pro laboratorní a chovatelské (krmivo) účely se z praktických důvodů často používá bezkřídlá mutace.\n",
    "\n",
    "Původní (divoká) forma octomilky obecné má jasně červené oči a je dlouhá 2 až 3 mm. Vyskytuje se na kvasícím ovoci, marmeládách, ovocných šťávách apod. Beznohé larvy jsou dlouhé přibližně 7 mm a žijí v hnijící dužnině ovoce.\n",
    "\n",
    "Zdroj: [https://cs.wikipedia.org/wiki/Octomilka_obecn%C3%A1](https://cs.wikipedia.org/wiki/Octomilka_obecn%C3%A1)\n",
    "\n",
    " Křídla má široká, v klidu složená na zadečku, který jen málo přečnívají. Má proměnu dokonalou. Samička klade během 10-15 dnů až 350 oválných, bílých vajíček, velkých kolem 0,5 mm, na měkké ovoce, kompoty, marmelády nebo kvasící tekutiny. Larvy se z nich líhnou za 3 dny a jsou protáhlé, vzrostlé, až 8 mm velké, se zakrnělou hlavou. Kuklí se za 3 týdny a dospělí jedinec se líhne po 5-10 dnech dle okolní teploty. Délka života dospělce je 2-9 týdnů.\n",
    " \n",
    " Zdroj: [http://cit.vfu.cz/vet-ekologie/rozdeleni_skudcu/octomilky.htm](http://cit.vfu.cz/vet-ekologie/rozdeleni_skudcu/octomilky.htm)"
   ]
  },
  {
   "cell_type": "markdown",
   "metadata": {},
   "source": [
    "### Obsah:\n",
    "\n",
    "1. Koľko má chromozómov?\n",
    "2. Koľko má génov?\n",
    "3. Aké veľké sú gény?\n",
    "3. Koľko génov majú jednotlivé chromozómy?\n",
    "4. Koľko má transkriptov?\n",
    "5. Koľko transkriptov majú jednotilvé chromozómy?\n",
    "6. Koľko transkriptov majú jednotlivé gény?\n",
    "7. Koľko exónov majú transkipty?"
   ]
  },
  {
   "cell_type": "markdown",
   "metadata": {},
   "source": [
    "#### Úprava dát na analýzu"
   ]
  },
  {
   "cell_type": "code",
   "execution_count": 46,
   "metadata": {
    "collapsed": true
   },
   "outputs": [],
   "source": [
    "import pandas as pd \n",
    "import numpy as np \n",
    "import matplotlib as plt\n",
    "import matplotlib.pyplot as pylt\n",
    "import matplotlib.mlab as  mlab\n",
    "import pylab as pl\n",
    "import re "
   ]
  },
  {
   "cell_type": "code",
   "execution_count": 2,
   "metadata": {
    "collapsed": true
   },
   "outputs": [],
   "source": [
    "gene = pd.read_table(\"C:/Users/Gabika/Documents/Python/drosophila_melanogaster_gene.gtf\", header=None)\n",
    "trans = pd.read_table(\"C:/Users/Gabika/Documents/Python/drosophila_melanogaster_transcript.gtf\", header=None)\n",
    "exon = pd.read_table(\"C:/Users/Gabika/Documents/Python/drosophila_melanogaster_exon.gtf\", header=None)\n",
    "\n",
    "gene.columns = [\"seqname\", \"source\", \"feature\", \"start\", \"end\", \"score\", \"strand\", \"frame\", \"attribute\"]\n",
    "trans.columns = [\"seqname\", \"source\", \"feature\", \"start\", \"end\", \"score\", \"strand\", \"frame\", \"attribute\"]\n",
    "exon.columns = [\"seqname\", \"source\", \"feature\", \"start\", \"end\", \"score\", \"strand\", \"frame\", \"attribute\"]"
   ]
  },
  {
   "cell_type": "code",
   "execution_count": 3,
   "metadata": {
    "collapsed": true
   },
   "outputs": [],
   "source": [
    "def parse_attributes(attributes_str):\n",
    "    \n",
    "    ONLY_ATTRIBUTES = set([\"gene_id\", \n",
    "                          \"transcript_id\",\n",
    "                          \"gene_name\",\n",
    "                          \"gene_biotype\",\n",
    "                          \"transcript_name\",\n",
    "                          \"transcript_biotypparse_attributes(s)e\"\n",
    "                          \"gene_version\"\n",
    "                          \"exon_version\"])\n",
    "    \n",
    "    out = {}\n",
    "    \n",
    "    for pair in attributes_str.split(\";\"):\n",
    "        if pair.strip() == \"\":\n",
    "            continue\n",
    "        m = re.match(r\"^\\s*(.+) \\\"(.+)\\\"$\", pair)\n",
    "        \n",
    "        if m.group(1) in ONLY_ATTRIBUTES:\n",
    "            out[m.group(1)] = m.group(2)\n",
    "\n",
    "    return out\n"
   ]
  },
  {
   "cell_type": "code",
   "execution_count": 4,
   "metadata": {
    "collapsed": true
   },
   "outputs": [],
   "source": [
    "def split_attribute_column(df):\n",
    "    \"\"\"Rozdělí sloupec `attribute` data frame GTF souboru do vlastních\n",
    "    sloupců.\n",
    "    \"\"\"\n",
    "    attributes_columns = df.attribute.apply(parse_attributes).apply(pd.Series)\n",
    "    return pd.concat([df.drop([\"attribute\"], axis=1),\n",
    "                      attributes_columns],\n",
    "                     axis=1)\n",
    "\n",
    "gene = split_attribute_column(gene)\n",
    "trans = split_attribute_column(trans)\n",
    "exon = split_attribute_column(exon)"
   ]
  },
  {
   "cell_type": "code",
   "execution_count": 5,
   "metadata": {
    "collapsed": false
   },
   "outputs": [
    {
     "data": {
      "text/plain": [
       "array(['3R', '3L', '2R', 'X', '2L', 'Y', '4', 'dmel_mitochondrion_genome',\n",
       "       'Unmapped_Scaffold_8', 'rDNA', '211000022280328', '211000022278498',\n",
       "       '211000022278875', '211000022279446', '211000022278279',\n",
       "       '211000022279681', '211000022280645', '211000022280494',\n",
       "       '211000022280703', '211000022280481', '211000022279188',\n",
       "       '211000022278724', '211000022278436', '211000022278282',\n",
       "       '211000022278664', '211000022280133', '211000022278522',\n",
       "       '211000022278879', '211000022278449', '211000022280347',\n",
       "       '211000022278298', '211000022278307', '211000022279529',\n",
       "       '211000022280341', '211000022279392', '211000022278604',\n",
       "       '211000022279708', '211000022279528', '211000022279531',\n",
       "       '211000022279555', '211000022278760', '211000022279222',\n",
       "       '211000022278750', '211000022278877', '211000022279055',\n",
       "       '211000022279165', '211000022279108', '211000022278309',\n",
       "       '211000022278603', '211000022278880', '211000022278878',\n",
       "       '211000022278985', '211000022278158', '211000022279264',\n",
       "       '211000022279134', '211000022279342', '211000022279132'], dtype=object)"
      ]
     },
     "execution_count": 5,
     "metadata": {},
     "output_type": "execute_result"
    }
   ],
   "source": [
    "gene[\"seqname\"].unique()"
   ]
  },
  {
   "cell_type": "code",
   "execution_count": 6,
   "metadata": {
    "collapsed": true
   },
   "outputs": [],
   "source": [
    "chromosomes = ['3R', '3L', '2R', 'X', '2L', 'Y', '4']\n",
    "gene = gene[gene[\"seqname\"].isin(chromosomes)]\n",
    "trans = trans[trans[\"seqname\"].isin(chromosomes)]\n",
    "exon = exon[exon[\"seqname\"].isin(chromosomes)]"
   ]
  },
  {
   "cell_type": "markdown",
   "metadata": {},
   "source": [
    "Koľko má chromozómov?"
   ]
  },
  {
   "cell_type": "markdown",
   "metadata": {},
   "source": [
    "![chromozom](http://www.barnardhealth.us/drosophila-melanogaster/images/2057_2_1-chromosomes-drosophila.jpg)"
   ]
  },
  {
   "cell_type": "code",
   "execution_count": 20,
   "metadata": {
    "collapsed": false
   },
   "outputs": [
    {
     "data": {
      "text/plain": [
       "['3R', '3L', '2R', 'X', '2L', 'Y', '4']"
      ]
     },
     "execution_count": 20,
     "metadata": {},
     "output_type": "execute_result"
    }
   ],
   "source": [
    "chromosomes"
   ]
  },
  {
   "cell_type": "markdown",
   "metadata": {},
   "source": [
    "Koľko má génov?"
   ]
  },
  {
   "cell_type": "code",
   "execution_count": 12,
   "metadata": {
    "collapsed": false
   },
   "outputs": [
    {
     "data": {
      "text/plain": [
       "(17453, 11)"
      ]
     },
     "execution_count": 12,
     "metadata": {},
     "output_type": "execute_result"
    }
   ],
   "source": [
    "gene.shape"
   ]
  },
  {
   "cell_type": "code",
   "execution_count": 13,
   "metadata": {
    "collapsed": false
   },
   "outputs": [
    {
     "data": {
      "text/plain": [
       "17453"
      ]
     },
     "execution_count": 13,
     "metadata": {},
     "output_type": "execute_result"
    }
   ],
   "source": [
    "len(gene['gene_name'].unique())"
   ]
  },
  {
   "cell_type": "markdown",
   "metadata": {},
   "source": [
    "Aké veľké sú gény?"
   ]
  },
  {
   "cell_type": "code",
   "execution_count": 34,
   "metadata": {
    "collapsed": false
   },
   "outputs": [
    {
     "data": {
      "text/html": [
       "<div>\n",
       "<table border=\"1\" class=\"dataframe\">\n",
       "  <thead>\n",
       "    <tr style=\"text-align: right;\">\n",
       "      <th></th>\n",
       "      <th>seqname</th>\n",
       "      <th>source</th>\n",
       "      <th>feature</th>\n",
       "      <th>start</th>\n",
       "      <th>end</th>\n",
       "      <th>score</th>\n",
       "      <th>strand</th>\n",
       "      <th>frame</th>\n",
       "      <th>gene_biotype</th>\n",
       "      <th>gene_id</th>\n",
       "      <th>gene_name</th>\n",
       "      <th>gene_size</th>\n",
       "    </tr>\n",
       "  </thead>\n",
       "  <tbody>\n",
       "    <tr>\n",
       "      <th>0</th>\n",
       "      <td>3R</td>\n",
       "      <td>FlyBase</td>\n",
       "      <td>gene</td>\n",
       "      <td>722370</td>\n",
       "      <td>722621</td>\n",
       "      <td>.</td>\n",
       "      <td>-</td>\n",
       "      <td>.</td>\n",
       "      <td>pseudogene</td>\n",
       "      <td>FBgn0085804</td>\n",
       "      <td>CR41571</td>\n",
       "      <td>251</td>\n",
       "    </tr>\n",
       "    <tr>\n",
       "      <th>1</th>\n",
       "      <td>3R</td>\n",
       "      <td>FlyBase</td>\n",
       "      <td>gene</td>\n",
       "      <td>835381</td>\n",
       "      <td>2503907</td>\n",
       "      <td>.</td>\n",
       "      <td>+</td>\n",
       "      <td>.</td>\n",
       "      <td>protein_coding</td>\n",
       "      <td>FBgn0267431</td>\n",
       "      <td>CG45784</td>\n",
       "      <td>1668526</td>\n",
       "    </tr>\n",
       "    <tr>\n",
       "      <th>2</th>\n",
       "      <td>3R</td>\n",
       "      <td>FlyBase</td>\n",
       "      <td>gene</td>\n",
       "      <td>1031171</td>\n",
       "      <td>1031354</td>\n",
       "      <td>.</td>\n",
       "      <td>+</td>\n",
       "      <td>.</td>\n",
       "      <td>pseudogene</td>\n",
       "      <td>FBgn0039987</td>\n",
       "      <td>CR12798</td>\n",
       "      <td>183</td>\n",
       "    </tr>\n",
       "    <tr>\n",
       "      <th>3</th>\n",
       "      <td>3R</td>\n",
       "      <td>FlyBase</td>\n",
       "      <td>gene</td>\n",
       "      <td>2156916</td>\n",
       "      <td>2157206</td>\n",
       "      <td>.</td>\n",
       "      <td>-</td>\n",
       "      <td>.</td>\n",
       "      <td>pseudogene</td>\n",
       "      <td>FBgn0058182</td>\n",
       "      <td>CR40182</td>\n",
       "      <td>290</td>\n",
       "    </tr>\n",
       "    <tr>\n",
       "      <th>4</th>\n",
       "      <td>3R</td>\n",
       "      <td>FlyBase</td>\n",
       "      <td>gene</td>\n",
       "      <td>2554124</td>\n",
       "      <td>3263573</td>\n",
       "      <td>.</td>\n",
       "      <td>-</td>\n",
       "      <td>.</td>\n",
       "      <td>protein_coding</td>\n",
       "      <td>FBgn0267430</td>\n",
       "      <td>CG45783</td>\n",
       "      <td>709449</td>\n",
       "    </tr>\n",
       "  </tbody>\n",
       "</table>\n",
       "</div>"
      ],
      "text/plain": [
       "  seqname   source feature    start      end score strand frame  \\\n",
       "0      3R  FlyBase    gene   722370   722621     .      -     .   \n",
       "1      3R  FlyBase    gene   835381  2503907     .      +     .   \n",
       "2      3R  FlyBase    gene  1031171  1031354     .      +     .   \n",
       "3      3R  FlyBase    gene  2156916  2157206     .      -     .   \n",
       "4      3R  FlyBase    gene  2554124  3263573     .      -     .   \n",
       "\n",
       "     gene_biotype      gene_id gene_name  gene_size  \n",
       "0      pseudogene  FBgn0085804   CR41571        251  \n",
       "1  protein_coding  FBgn0267431   CG45784    1668526  \n",
       "2      pseudogene  FBgn0039987   CR12798        183  \n",
       "3      pseudogene  FBgn0058182   CR40182        290  \n",
       "4  protein_coding  FBgn0267430   CG45783     709449  "
      ]
     },
     "execution_count": 34,
     "metadata": {},
     "output_type": "execute_result"
    }
   ],
   "source": [
    "gene['gene_size'] = gene['end'] - gene['start']\n",
    "gene.head()"
   ]
  },
  {
   "cell_type": "markdown",
   "metadata": {},
   "source": [
    "Koľko génov majú jednotlivé chromozómy?"
   ]
  },
  {
   "cell_type": "code",
   "execution_count": 16,
   "metadata": {
    "collapsed": false
   },
   "outputs": [
    {
     "data": {
      "text/plain": [
       "3R    4125\n",
       "2R    3601\n",
       "2L    3465\n",
       "3L    3433\n",
       "X     2647\n",
       "4      111\n",
       "Y       71\n",
       "Name: seqname, dtype: int64"
      ]
     },
     "execution_count": 16,
     "metadata": {},
     "output_type": "execute_result"
    }
   ],
   "source": [
    "gene_chr = gene['seqname'].value_counts()\n",
    "gene_chr"
   ]
  },
  {
   "cell_type": "code",
   "execution_count": 32,
   "metadata": {
    "collapsed": false
   },
   "outputs": [
    {
     "data": {
      "image/png": "[encoded data removed]",
      "text/plain": [
       "<matplotlib.figure.Figure at 0x2378add0>"
      ]
     },
     "metadata": {},
     "output_type": "display_data"
    }
   ],
   "source": [
    "y_pos = np.arange(7)\n",
    "plt.bar(y_pos, gene_chr,align='center', alpha=0.7) \n",
    "plt.xticks(y_pos, [\"3L\",\"2R\",\"2L\",\"3L\",\"X\",\"4\",\"Y\"])\n",
    "plt.ylabel('počet génov')\n",
    "plt.xlabel(\"chromozóm\")\n",
    "plt.title('Graf počtu génov na jednotlivých chromozómoch')\n",
    "for ax in plt.gcf().axes:\n",
    "    plt.sca(ax)\n",
    "    plt.xticks(ax.get_xticks(), rotation=0)\n",
    "plt.show()"
   ]
  },
  {
   "cell_type": "markdown",
   "metadata": {},
   "source": [
    "Koľko má transkriptov?"
   ]
  },
  {
   "cell_type": "code",
   "execution_count": 24,
   "metadata": {
    "collapsed": false
   },
   "outputs": [
    {
     "data": {
      "text/plain": [
       "(34633, 13)"
      ]
     },
     "execution_count": 24,
     "metadata": {},
     "output_type": "execute_result"
    }
   ],
   "source": [
    "trans.shape"
   ]
  },
  {
   "cell_type": "code",
   "execution_count": 25,
   "metadata": {
    "collapsed": false
   },
   "outputs": [
    {
     "data": {
      "text/plain": [
       "34633"
      ]
     },
     "execution_count": 25,
     "metadata": {},
     "output_type": "execute_result"
    }
   ],
   "source": [
    "len(trans['transcript_id'].unique())"
   ]
  },
  {
   "cell_type": "markdown",
   "metadata": {},
   "source": [
    "Koľko transkriptov majú jednotlivé chromozómy?"
   ]
  },
  {
   "cell_type": "code",
   "execution_count": 29,
   "metadata": {
    "collapsed": false
   },
   "outputs": [
    {
     "data": {
      "text/plain": [
       "3R    8010\n",
       "2R    6927\n",
       "3L    6676\n",
       "2L    6632\n",
       "X     5973\n",
       "4      343\n",
       "Y       72\n",
       "Name: seqname, dtype: int64"
      ]
     },
     "execution_count": 29,
     "metadata": {},
     "output_type": "execute_result"
    }
   ],
   "source": [
    "trans_chr = trans['seqname'].value_counts()\n",
    "trans_chr"
   ]
  },
  {
   "cell_type": "code",
   "execution_count": 31,
   "metadata": {
    "collapsed": false
   },
   "outputs": [
    {
     "data": {
      "image/png": "[encoded data removed]",
      "text/plain": [
       "<matplotlib.figure.Figure at 0x221ad730>"
      ]
     },
     "metadata": {},
     "output_type": "display_data"
    }
   ],
   "source": [
    "y_pos = np.arange(7)\n",
    "plt.bar(y_pos, gene_chr,align='center', alpha=0.7) \n",
    "plt.xticks(y_pos, [\"3L\",\"2R\",\"2L\",\"3L\",\"X\",\"4\",\"Y\"])\n",
    "plt.ylabel('počet transkriptov')\n",
    "plt.xlabel(\"chromozóm\")\n",
    "plt.title('Graf počtu transkriptov na jednotlivých chromozómoch')\n",
    "for ax in plt.gcf().axes:\n",
    "    plt.sca(ax)\n",
    "    plt.xticks(ax.get_xticks(), rotation=0)\n",
    "plt.show()"
   ]
  },
  {
   "cell_type": "markdown",
   "metadata": {},
   "source": [
    "Koľko transkiptov majú jednotlivé gény?"
   ]
  },
  {
   "cell_type": "code",
   "execution_count": 35,
   "metadata": {
    "collapsed": true
   },
   "outputs": [],
   "source": [
    "transs = trans['gene_name'].value_counts()\n",
    "transs.to_csv('C:/Users/Gabika/Documents/Python/transs.gtf')\n",
    "transs = pd.read_csv('C:/Users/Gabika/Documents/Python/transs.gtf', header=None)\n",
    "transs.columns = ['name', 'count']\n",
    "transs.sort_values(['name']).to_csv('C:/Users/Gabika/Documents/Python/transs.gtf')\n",
    "transs = pd.read_csv('C:/Users/Gabika/Documents/Python/transs.gtf')"
   ]
  },
  {
   "cell_type": "code",
   "execution_count": 36,
   "metadata": {
    "collapsed": false
   },
   "outputs": [
    {
     "data": {
      "text/html": [
       "<div>\n",
       "<table border=\"1\" class=\"dataframe\">\n",
       "  <thead>\n",
       "    <tr style=\"text-align: right;\">\n",
       "      <th></th>\n",
       "      <th>Unnamed: 0</th>\n",
       "      <th>name</th>\n",
       "      <th>count</th>\n",
       "    </tr>\n",
       "  </thead>\n",
       "  <tbody>\n",
       "    <tr>\n",
       "      <th>0</th>\n",
       "      <td>14461</td>\n",
       "      <td>128up</td>\n",
       "      <td>1</td>\n",
       "    </tr>\n",
       "    <tr>\n",
       "      <th>1</th>\n",
       "      <td>1560</td>\n",
       "      <td>14-3-3epsilon</td>\n",
       "      <td>4</td>\n",
       "    </tr>\n",
       "    <tr>\n",
       "      <th>2</th>\n",
       "      <td>107</td>\n",
       "      <td>14-3-3zeta</td>\n",
       "      <td>12</td>\n",
       "    </tr>\n",
       "    <tr>\n",
       "      <th>3</th>\n",
       "      <td>7311</td>\n",
       "      <td>140up</td>\n",
       "      <td>2</td>\n",
       "    </tr>\n",
       "    <tr>\n",
       "      <th>4</th>\n",
       "      <td>10264</td>\n",
       "      <td>18SrRNA-Psi:CR41602</td>\n",
       "      <td>1</td>\n",
       "    </tr>\n",
       "  </tbody>\n",
       "</table>\n",
       "</div>"
      ],
      "text/plain": [
       "   Unnamed: 0                 name  count\n",
       "0       14461                128up      1\n",
       "1        1560        14-3-3epsilon      4\n",
       "2         107           14-3-3zeta     12\n",
       "3        7311                140up      2\n",
       "4       10264  18SrRNA-Psi:CR41602      1"
      ]
     },
     "execution_count": 36,
     "metadata": {},
     "output_type": "execute_result"
    }
   ],
   "source": [
    "transs.head()"
   ]
  },
  {
   "cell_type": "markdown",
   "metadata": {},
   "source": [
    "Koľko exonov majú jednotlivé transkripty?"
   ]
  },
  {
   "cell_type": "code",
   "execution_count": 37,
   "metadata": {
    "collapsed": true
   },
   "outputs": [],
   "source": [
    "exons = exon['transcript_name'].value_counts()\n",
    "exons.to_csv('C:/Users/Gabika/Documents/Python/exons.gtf')\n",
    "exons = pd.read_csv('C:/Users/Gabika/Documents/Python/exons.gtf', header=None)\n",
    "exons.columns = ['name', 'count']\n",
    "exons.sort_values(['name']).to_csv('C:/Users/Gabika/Documents/Python/exons.gtf')\n",
    "exons = pd.read_csv('C:/Users/Gabika/Documents/Python/exons.gtf')"
   ]
  },
  {
   "cell_type": "code",
   "execution_count": 39,
   "metadata": {
    "collapsed": false
   },
   "outputs": [
    {
     "data": {
      "text/html": [
       "<div>\n",
       "<table border=\"1\" class=\"dataframe\">\n",
       "  <thead>\n",
       "    <tr style=\"text-align: right;\">\n",
       "      <th></th>\n",
       "      <th>Unnamed: 0</th>\n",
       "      <th>name</th>\n",
       "      <th>count</th>\n",
       "    </tr>\n",
       "  </thead>\n",
       "  <tbody>\n",
       "    <tr>\n",
       "      <th>0</th>\n",
       "      <td>15277</td>\n",
       "      <td>128up-RA</td>\n",
       "      <td>4</td>\n",
       "    </tr>\n",
       "    <tr>\n",
       "      <th>1</th>\n",
       "      <td>18504</td>\n",
       "      <td>14-3-3epsilon-RA</td>\n",
       "      <td>4</td>\n",
       "    </tr>\n",
       "    <tr>\n",
       "      <th>2</th>\n",
       "      <td>16034</td>\n",
       "      <td>14-3-3epsilon-RB</td>\n",
       "      <td>4</td>\n",
       "    </tr>\n",
       "    <tr>\n",
       "      <th>3</th>\n",
       "      <td>15386</td>\n",
       "      <td>14-3-3epsilon-RC</td>\n",
       "      <td>4</td>\n",
       "    </tr>\n",
       "    <tr>\n",
       "      <th>4</th>\n",
       "      <td>17583</td>\n",
       "      <td>14-3-3epsilon-RD</td>\n",
       "      <td>4</td>\n",
       "    </tr>\n",
       "    <tr>\n",
       "      <th>5</th>\n",
       "      <td>9861</td>\n",
       "      <td>14-3-3zeta-RA</td>\n",
       "      <td>7</td>\n",
       "    </tr>\n",
       "    <tr>\n",
       "      <th>6</th>\n",
       "      <td>8853</td>\n",
       "      <td>14-3-3zeta-RB</td>\n",
       "      <td>7</td>\n",
       "    </tr>\n",
       "    <tr>\n",
       "      <th>7</th>\n",
       "      <td>8898</td>\n",
       "      <td>14-3-3zeta-RC</td>\n",
       "      <td>7</td>\n",
       "    </tr>\n",
       "    <tr>\n",
       "      <th>8</th>\n",
       "      <td>9109</td>\n",
       "      <td>14-3-3zeta-RD</td>\n",
       "      <td>7</td>\n",
       "    </tr>\n",
       "    <tr>\n",
       "      <th>9</th>\n",
       "      <td>9484</td>\n",
       "      <td>14-3-3zeta-RE</td>\n",
       "      <td>7</td>\n",
       "    </tr>\n",
       "    <tr>\n",
       "      <th>10</th>\n",
       "      <td>9900</td>\n",
       "      <td>14-3-3zeta-RF</td>\n",
       "      <td>7</td>\n",
       "    </tr>\n",
       "    <tr>\n",
       "      <th>11</th>\n",
       "      <td>8057</td>\n",
       "      <td>14-3-3zeta-RG</td>\n",
       "      <td>7</td>\n",
       "    </tr>\n",
       "    <tr>\n",
       "      <th>12</th>\n",
       "      <td>8157</td>\n",
       "      <td>14-3-3zeta-RH</td>\n",
       "      <td>7</td>\n",
       "    </tr>\n",
       "    <tr>\n",
       "      <th>13</th>\n",
       "      <td>9087</td>\n",
       "      <td>14-3-3zeta-RI</td>\n",
       "      <td>7</td>\n",
       "    </tr>\n",
       "    <tr>\n",
       "      <th>14</th>\n",
       "      <td>9749</td>\n",
       "      <td>14-3-3zeta-RJ</td>\n",
       "      <td>7</td>\n",
       "    </tr>\n",
       "    <tr>\n",
       "      <th>15</th>\n",
       "      <td>9639</td>\n",
       "      <td>14-3-3zeta-RK</td>\n",
       "      <td>7</td>\n",
       "    </tr>\n",
       "    <tr>\n",
       "      <th>16</th>\n",
       "      <td>9058</td>\n",
       "      <td>14-3-3zeta-RL</td>\n",
       "      <td>7</td>\n",
       "    </tr>\n",
       "    <tr>\n",
       "      <th>17</th>\n",
       "      <td>17817</td>\n",
       "      <td>140up-RA</td>\n",
       "      <td>4</td>\n",
       "    </tr>\n",
       "    <tr>\n",
       "      <th>18</th>\n",
       "      <td>17832</td>\n",
       "      <td>140up-RB</td>\n",
       "      <td>4</td>\n",
       "    </tr>\n",
       "    <tr>\n",
       "      <th>19</th>\n",
       "      <td>31303</td>\n",
       "      <td>18SrRNA-Psi:CR41602-RB</td>\n",
       "      <td>1</td>\n",
       "    </tr>\n",
       "  </tbody>\n",
       "</table>\n",
       "</div>"
      ],
      "text/plain": [
       "    Unnamed: 0                    name  count\n",
       "0        15277                128up-RA      4\n",
       "1        18504        14-3-3epsilon-RA      4\n",
       "2        16034        14-3-3epsilon-RB      4\n",
       "3        15386        14-3-3epsilon-RC      4\n",
       "4        17583        14-3-3epsilon-RD      4\n",
       "5         9861           14-3-3zeta-RA      7\n",
       "6         8853           14-3-3zeta-RB      7\n",
       "7         8898           14-3-3zeta-RC      7\n",
       "8         9109           14-3-3zeta-RD      7\n",
       "9         9484           14-3-3zeta-RE      7\n",
       "10        9900           14-3-3zeta-RF      7\n",
       "11        8057           14-3-3zeta-RG      7\n",
       "12        8157           14-3-3zeta-RH      7\n",
       "13        9087           14-3-3zeta-RI      7\n",
       "14        9749           14-3-3zeta-RJ      7\n",
       "15        9639           14-3-3zeta-RK      7\n",
       "16        9058           14-3-3zeta-RL      7\n",
       "17       17817                140up-RA      4\n",
       "18       17832                140up-RB      4\n",
       "19       31303  18SrRNA-Psi:CR41602-RB      1"
      ]
     },
     "execution_count": 39,
     "metadata": {},
     "output_type": "execute_result"
    }
   ],
   "source": [
    "exons.head(20)"
   ]
  },
  {
   "cell_type": "code",
   "execution_count": 41,
   "metadata": {
    "collapsed": false
   },
   "outputs": [
    {
     "data": {
      "text/html": [
       "<div>\n",
       "<table border=\"1\" class=\"dataframe\">\n",
       "  <thead>\n",
       "    <tr style=\"text-align: right;\">\n",
       "      <th></th>\n",
       "      <th>Unnamed: 0</th>\n",
       "      <th>seqname</th>\n",
       "      <th>source</th>\n",
       "      <th>feature</th>\n",
       "      <th>start</th>\n",
       "      <th>end</th>\n",
       "      <th>score</th>\n",
       "      <th>strand</th>\n",
       "      <th>frame</th>\n",
       "      <th>gene_biotype</th>\n",
       "      <th>gene_id</th>\n",
       "      <th>gene_name</th>\n",
       "      <th>gene_size</th>\n",
       "    </tr>\n",
       "  </thead>\n",
       "  <tbody>\n",
       "    <tr>\n",
       "      <th>0</th>\n",
       "      <td>8665</td>\n",
       "      <td>2R</td>\n",
       "      <td>FlyBase</td>\n",
       "      <td>gene</td>\n",
       "      <td>12037298</td>\n",
       "      <td>12038851</td>\n",
       "      <td>.</td>\n",
       "      <td>+</td>\n",
       "      <td>.</td>\n",
       "      <td>protein_coding</td>\n",
       "      <td>FBgn0010339</td>\n",
       "      <td>128up</td>\n",
       "      <td>1553</td>\n",
       "    </tr>\n",
       "    <tr>\n",
       "      <th>1</th>\n",
       "      <td>2118</td>\n",
       "      <td>3R</td>\n",
       "      <td>FlyBase</td>\n",
       "      <td>gene</td>\n",
       "      <td>18242531</td>\n",
       "      <td>18250550</td>\n",
       "      <td>.</td>\n",
       "      <td>+</td>\n",
       "      <td>.</td>\n",
       "      <td>protein_coding</td>\n",
       "      <td>FBgn0020238</td>\n",
       "      <td>14-3-3epsilon</td>\n",
       "      <td>8019</td>\n",
       "    </tr>\n",
       "    <tr>\n",
       "      <th>2</th>\n",
       "      <td>8376</td>\n",
       "      <td>2R</td>\n",
       "      <td>FlyBase</td>\n",
       "      <td>gene</td>\n",
       "      <td>10099677</td>\n",
       "      <td>10109687</td>\n",
       "      <td>.</td>\n",
       "      <td>+</td>\n",
       "      <td>.</td>\n",
       "      <td>protein_coding</td>\n",
       "      <td>FBgn0004907</td>\n",
       "      <td>14-3-3zeta</td>\n",
       "      <td>10010</td>\n",
       "    </tr>\n",
       "    <tr>\n",
       "      <th>3</th>\n",
       "      <td>1527</td>\n",
       "      <td>3R</td>\n",
       "      <td>FlyBase</td>\n",
       "      <td>gene</td>\n",
       "      <td>14124163</td>\n",
       "      <td>14125548</td>\n",
       "      <td>.</td>\n",
       "      <td>-</td>\n",
       "      <td>.</td>\n",
       "      <td>protein_coding</td>\n",
       "      <td>FBgn0010340</td>\n",
       "      <td>140up</td>\n",
       "      <td>1385</td>\n",
       "    </tr>\n",
       "    <tr>\n",
       "      <th>4</th>\n",
       "      <td>13793</td>\n",
       "      <td>X</td>\n",
       "      <td>FlyBase</td>\n",
       "      <td>gene</td>\n",
       "      <td>23211192</td>\n",
       "      <td>23213166</td>\n",
       "      <td>.</td>\n",
       "      <td>+</td>\n",
       "      <td>.</td>\n",
       "      <td>pseudogene</td>\n",
       "      <td>FBgn0085813</td>\n",
       "      <td>18SrRNA-Psi:CR41602</td>\n",
       "      <td>1974</td>\n",
       "    </tr>\n",
       "  </tbody>\n",
       "</table>\n",
       "</div>"
      ],
      "text/plain": [
       "   Unnamed: 0 seqname   source feature     start       end score strand frame  \\\n",
       "0        8665      2R  FlyBase    gene  12037298  12038851     .      +     .   \n",
       "1        2118      3R  FlyBase    gene  18242531  18250550     .      +     .   \n",
       "2        8376      2R  FlyBase    gene  10099677  10109687     .      +     .   \n",
       "3        1527      3R  FlyBase    gene  14124163  14125548     .      -     .   \n",
       "4       13793       X  FlyBase    gene  23211192  23213166     .      +     .   \n",
       "\n",
       "     gene_biotype      gene_id            gene_name  gene_size  \n",
       "0  protein_coding  FBgn0010339                128up       1553  \n",
       "1  protein_coding  FBgn0020238        14-3-3epsilon       8019  \n",
       "2  protein_coding  FBgn0004907           14-3-3zeta      10010  \n",
       "3  protein_coding  FBgn0010340                140up       1385  \n",
       "4      pseudogene  FBgn0085813  18SrRNA-Psi:CR41602       1974  "
      ]
     },
     "execution_count": 41,
     "metadata": {},
     "output_type": "execute_result"
    }
   ],
   "source": [
    "gene.sort_values(['gene_name']).to_csv('C:/Users/Gabika/Documents/Python/drosophila_melanogaster_gene1.gtf')\n",
    "gene1 = pd.read_csv('C:/Users/Gabika/Documents/Python/drosophila_melanogaster_gene1.gtf')\n",
    "gene1.head()"
   ]
  },
  {
   "cell_type": "code",
   "execution_count": 44,
   "metadata": {
    "collapsed": false
   },
   "outputs": [],
   "source": [
    "fig,ax = plt.pyplot.subplots()\n",
    "fit = np.polyfit(df[\"Velikost_genu\"], df[\"Pocet_exonu\"], deg=1)\n",
    "ax.plot(df[\"Velikost_genu\"],  fit[0] * df[\"Velikost_genu\"] + fit[1], color='red')\n",
    "ax.scatter(df[\"Velikost_genu\"], df[\"Pocet_exonu\"])\n",
    "ax.set_xlabel(\"Velikost genu\")\n",
    "ax.set_ylabel(\"Počet exonů\")\n",
    "pl.suptitle(\"Vztah mezi velikosti genu a počtem exonů\")\n",
    "%matplotlib inline"
   ]
  },
  {
   "cell_type": "code",
   "execution_count": 50,
   "metadata": {
    "collapsed": false
   },
   "outputs": [
    {
     "data": {
      "text/plain": [
       "<matplotlib.text.Text at 0x14039a90>"
      ]
     },
     "execution_count": 50,
     "metadata": {},
     "output_type": "execute_result"
    },
    {
     "data": {
      "image/png": "[encoded data removed]",
      "text/plain": [
       "<matplotlib.figure.Figure at 0x140a49d0>"
      ]
     },
     "metadata": {},
     "output_type": "display_data"
    }
   ],
   "source": [
    "fig,ax = plt.pyplot.subplots()\n",
    "fit = np.polyfit(gene1['gene_size'], transs[\"count\"], deg=1)\n",
    "ax.plot(gene1[\"gene_size\"],  fit[0] * gene1[\"gene_size\"] + fit[1], color='red')\n",
    "ax.scatter(gene1[\"gene_size\"], transs[\"count\"])\n",
    "ax.set_ylabel(\"Pocet transkriptov\")\n",
    "pl.suptitle(\"Vztah medzi velkostou genu a poctom transkriptov\")"
   ]
  },
  {
   "cell_type": "code",
   "execution_count": null,
   "metadata": {
    "collapsed": true
   },
   "outputs": [],
   "source": []
  }
 ],
 "metadata": {
  "kernelspec": {
   "display_name": "Python [conda root]",
   "language": "python",
   "name": "conda-root-py"
  },
  "language_info": {
   "codemirror_mode": {
    "name": "ipython",
    "version": 3
   },
   "file_extension": ".py",
   "mimetype": "text/x-python",
   "name": "python",
   "nbconvert_exporter": "python",
   "pygments_lexer": "ipython3",
   "version": "3.5.2"
  }
 },
 "nbformat": 4,
 "nbformat_minor": 1
}
